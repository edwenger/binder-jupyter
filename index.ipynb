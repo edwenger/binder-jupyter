{
 "cells": [
  {
   "cell_type": "markdown",
   "metadata": {},
   "source": [
    "# Welcome to an example Binder"
   ]
  },
  {
   "cell_type": "markdown",
   "metadata": {},
   "source": [
    "This notebook uses a Python environment with a custom pybind11-exported C++ module."
   ]
  },
  {
   "cell_type": "code",
   "execution_count": 1,
   "metadata": {},
   "outputs": [],
   "source": [
    "import emod  # import our module"
   ]
  },
  {
   "cell_type": "code",
   "execution_count": 7,
   "metadata": {},
   "outputs": [
    {
     "data": {
      "text/plain": [
       "<emod.Cohort with count of 10>"
      ]
     },
     "execution_count": 7,
     "metadata": {},
     "output_type": "execute_result"
    }
   ],
   "source": [
    "emod.Cohort(10)  # instantiate a Cohort object"
   ]
  },
  {
   "cell_type": "code",
   "execution_count": 9,
   "metadata": {},
   "outputs": [],
   "source": [
    "fraction = 0.5\n",
    "n_draws = 100\n",
    "results = [0] * (c.count + 1)\n",
    "\n",
    "# Populate a binomial distribution from a bunch of draws\n",
    "for _ in range(n_draws):\n",
    "    number = c.drawFraction(fraction)\n",
    "    results[number] += 1"
   ]
  },
  {
   "cell_type": "code",
   "execution_count": 10,
   "metadata": {},
   "outputs": [
    {
     "name": "stdout",
     "output_type": "stream",
     "text": [
      "binomial_distribution(20, 0.50):\n",
      "0: \n",
      "1: \n",
      "2: \n",
      "3: \n",
      "4: **\n",
      "5: *\n",
      "6: ***\n",
      "7: ******\n",
      "8: **********\n",
      "9: ******************\n",
      "10: ****************\n",
      "11: *******************\n",
      "12: **********\n",
      "13: ********\n",
      "14: *****\n",
      "15: \n",
      "16: \n",
      "17: *\n",
      "18: *\n",
      "19: \n",
      "20: \n"
     ]
    }
   ],
   "source": [
    "print('binomial_distribution(%d, %0.2f):' % (c.count, fraction))\n",
    "for number in range(c.count + 1):\n",
    "    print('%d: %s' % (number, '*' * results[number]))"
   ]
  }
 ],
 "metadata": {
  "kernelspec": {
   "display_name": "Python 3",
   "language": "python",
   "name": "python3"
  },
  "language_info": {
   "codemirror_mode": {
    "name": "ipython",
    "version": 3
   },
   "file_extension": ".py",
   "mimetype": "text/x-python",
   "name": "python",
   "nbconvert_exporter": "python",
   "pygments_lexer": "ipython3",
   "version": "3.7.3"
  }
 },
 "nbformat": 4,
 "nbformat_minor": 2
}
